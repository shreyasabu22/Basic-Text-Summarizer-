{
 "cells": [
  {
   "cell_type": "code",
   "execution_count": 2,
   "metadata": {},
   "outputs": [
    {
     "data": {
      "text/plain": [
       "['Max Ventures and Industries Ltd today said its board has approved raising Rs 450 crore by way of rights issue.',\n",
       " 'The board of directors has considered and approved raising of funds by way of offer and issue of equity shares on rights basis for an amount aggregating Rs 450 crore, the company said in a regulatory filing.']"
      ]
     },
     "execution_count": 2,
     "metadata": {},
     "output_type": "execute_result"
    }
   ],
   "source": [
    "import urllib2\n",
    "from bs4 import BeautifulSoup\n",
    "articleURL=\"https://www.mid-day.com/articles/national-news-nirbhaya-rape-case-verdict-flashback-dark-night-of-december-16-2012-delhi/18226167\"\n",
    "\n",
    "def getTextArticle(url):\n",
    "    page=urllib2.urlopen(url).read().decode('utf8')\n",
    "    soup=BeautifulSoup(page,'lxml')\n",
    "    text=' '.join(map(lambda p:p.text,soup.find_all('article')))\n",
    "    return text.encode('ascii',errors='replace').replace(\"?\",\" \")\n",
    "\n",
    "text=\"Max Ventures and Industries Ltd today said its board has approved raising Rs 450 crore by way of rights issue. The board of directors has considered and approved raising of funds by way of offer and issue of equity shares on rights basis for an amount aggregating Rs 450 crore, the company said in a regulatory filing. The fund raise in subject to necessary approvals, it added. Max Ventures and Industries stock closed 1.92 per cent up at Rs 92.70 on BSE.\"\n",
    "from nltk.corpus import stopwords\n",
    "from string import punctuation\n",
    "from nltk.tokenize import sent_tokenize,word_tokenize\n",
    "from nltk.probability import FreqDist\n",
    "from heapq import nlargest\n",
    "from collections import defaultdict\n",
    "sents=sent_tokenize(text)\n",
    "def summarize(text,n):\n",
    "    \n",
    "    \n",
    "    for i in range(len(sents)):\n",
    "        row=sents[i]\n",
    "        row = row.replace(\"\\n\", \"\")\n",
    "        row = row.replace(\"\\t\", \"\")\n",
    "        row = row.replace(\"-\", \"\")\n",
    "        sents[i] = row \n",
    "    \n",
    "           \n",
    "    assert n<=len(sents)\n",
    "    word_sent=word_tokenize(text.lower())\n",
    "    freq=FreqDist(word_sent)\n",
    "    nlargest(20,freq,key=freq.get)\n",
    "    customStopwords=set(stopwords.words('english')+list(punctuation)+list(\"\\n\"))\n",
    "    word_sent=[word for word in word_sent if word not in customStopwords]\n",
    "    \n",
    "    ranking=defaultdict(int)\n",
    "    for i,sent in enumerate(sents):\n",
    "        for w in word_tokenize(sent.lower()):\n",
    "            if w in freq:\n",
    "                ranking[i]+=freq[w]\n",
    "    sents_idx=nlargest(n,ranking,key=ranking.get)\n",
    "    return [sents[j] for j in sorted(sents_idx)]\n",
    "\n",
    "summarize(text,2)\n",
    "\n"
   ]
  },
  {
   "cell_type": "code",
   "execution_count": 3,
   "metadata": {},
   "outputs": [
    {
     "name": "stdout",
     "output_type": "stream",
     "text": [
      "Max Ventures and Industries Ltd today said its board has approved raising Rs 450 crore by way of rights issue.\n",
      "The fund raise in subject to necessary approvals, it added.\n",
      "========\n",
      "Max Ventures and Industries Ltd today said its board has approved raising Rs 450 crore by way of rights issue.\n",
      "The board of directors has considered and approved raising of funds by way of offer and issue of equity shares on rights basis for an amount aggregating Rs 450 crore, the company said in a regulatory filing.\n",
      "========\n",
      "Max Ventures and Industries Ltd today said its board has approved raising Rs 450 crore by way of rights issue.\n",
      "The board of directors has considered and approved raising of funds by way of offer and issue of equity shares on rights basis for an amount aggregating Rs 450 crore, the company said in a regulatory filing.\n",
      "========\n",
      "\n"
     ]
    }
   ],
   "source": [
    "from sumy.summarizers import luhn\n",
    "from sumy.nlp.stemmers import Stemmer\n",
    "from sumy.utils import get_stop_words\n",
    "from sumy.nlp.tokenizers import Tokenizer\n",
    "from gensim.summarization import summarize\n",
    "from sumy.summarizers.luhn import LuhnSummarizer \n",
    "from sumy.parsers.plaintext import PlaintextParser\n",
    "from sumy.summarizers.lex_rank import LexRankSummarizer\n",
    "from sumy.summarizers.lsa import LsaSummarizer as Summarizer\n",
    "\n",
    "LANGUAGE = \"english\"\n",
    "SENTENCES_COUNT = 2\n",
    "\n",
    "text=\"Max Ventures and Industries Ltd today said its board has approved raising Rs 450 crore by way of rights issue. The board of directors has considered and approved raising of funds by way of offer and issue of equity shares on rights basis for an amount aggregating Rs 450 crore, the company said in a regulatory filing. The fund raise in subject to necessary approvals, it added. Max Ventures and Industries stock closed 1.92 per cent up at Rs 92.70 on BSE.\"\n",
    "\n",
    "\n",
    "parser = PlaintextParser.from_string((text), Tokenizer(LANGUAGE))\n",
    "stemmer = Stemmer(LANGUAGE)\n",
    "\n",
    "\n",
    "\n",
    "\n",
    "def lexrank_summarizer():\n",
    "    summarizer_LexRank = LexRankSummarizer(stemmer)\n",
    "    summarizer_LexRank.stop_words = get_stop_words(LANGUAGE)\n",
    "    for sentence in summarizer_LexRank(parser.document, SENTENCES_COUNT):\n",
    "        print sentence\n",
    "        \n",
    "def lsa_summarizer():\n",
    "    summarizer_lsa = Summarizer(stemmer)\n",
    "    summarizer_lsa.stop_words = get_stop_words(LANGUAGE)\n",
    "    for sentence in summarizer_lsa(parser.document, SENTENCES_COUNT):\n",
    "        print sentence\n",
    "def luhn_summarizer():\n",
    "    summarizer_luhn = LuhnSummarizer(stemmer)\n",
    "    summarizer_luhn.stop_words = get_stop_words(LANGUAGE)\n",
    "    for sentence in summarizer_luhn(parser.document, SENTENCES_COUNT):\n",
    "        print sentence\n",
    "        \n",
    "def gensim_summarizer():\n",
    "    print (summarize(text))\n",
    "\n",
    "\n",
    "lexrank_summarizer()\n",
    "print \"========\"\n",
    "lsa_summarizer()\n",
    "print \"========\"\n",
    "luhn_summarizer()\n",
    "print \"========\"\n",
    "gensim_summarizer()\n"
   ]
  },
  {
   "cell_type": "code",
   "execution_count": null,
   "metadata": {
    "collapsed": true
   },
   "outputs": [],
   "source": []
  }
 ],
 "metadata": {
  "kernelspec": {
   "display_name": "Python 2",
   "language": "python",
   "name": "python2"
  },
  "language_info": {
   "codemirror_mode": {
    "name": "ipython",
    "version": 2
   },
   "file_extension": ".py",
   "mimetype": "text/x-python",
   "name": "python",
   "nbconvert_exporter": "python",
   "pygments_lexer": "ipython2",
   "version": "2.7.14"
  }
 },
 "nbformat": 4,
 "nbformat_minor": 2
}
